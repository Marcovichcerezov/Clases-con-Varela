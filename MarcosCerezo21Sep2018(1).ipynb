{
 "cells": [
  {
   "cell_type": "markdown",
   "metadata": {},
   "source": [
    "## Ecuaciones diferenciales con Python.\n",
    "\n",
    "Todas las cosas con las que interactuamos estan en un constante cambio. Magicamente el estudio de todos estos fenomenos pueden ser explicados mediante ecuaciones matematicas.\n",
    "\n",
    "## Una ecuacion diferencial\n",
    "\n",
    "Son parecidas a un ecuacion comun, es una ecuacion matematoca que relaciona una funcion con sus derivadas. Como estas relaciones son muy comunes, las ecuaciones diferenciales son muy importantes ademas de que tienen una amplia aplicaciono en diversas diciplinas.\n",
    "\n",
    "$$dy/dx=f(x)$$\n",
    "## Ecuaciones diferenciales y parciales.\n",
    "\n",
    "El caso precedente, es el caso tipico de una Ecuacion diferencial ordinaria, ya quie las derivadas invoalucradas son tomadas para formular problemas que involucran funciones de varias variables, y pueden resolverse manualmente, para crear un asimulacion por computadora.\n",
    "Se utilizan para describir fenomenos tales como el sonido, el calor, la elasticidad, entre otros. Estos distintos fenomenos fisicos se pueden formalizar en terminos de ecuacione en derivadas parciales.\n",
    "\n",
    "## Serie de Taylor\n",
    "$$f(a)+\\frac{f´(a)}{n!}$$\n",
    "Para $$e^(-x^2)$$, y evaluando a $$a=0$$\n",
    "$$e^(-x^2)=1+0-1$$\n",
    "## Resolucion de problemas con Python\n",
    "SymPy nos proporciona un soluconador generico de Ecuaciones diferenciale sordinarias , sympy.dsolve, el cual es capaz der encontrar soluciones analiticas a muchas ecuaciones diferenciales elementales. Mientras sympy.desolve"
   ]
  },
  {
   "cell_type": "code",
   "execution_count": 20,
   "metadata": {
    "collapsed": true
   },
   "outputs": [],
   "source": [
    "import numpy as np\n",
    "import sympy\n",
    "from scipy import integrate\n",
    "#imprimir con notacion matematica.\n",
    "sympy.init_printing(use_latex=\"mathjax\")"
   ]
  },
  {
   "cell_type": "code",
   "execution_count": 22,
   "metadata": {},
   "outputs": [
    {
     "data": {
      "text/latex": [
       "$$\\frac{d}{d x} y{\\left (x \\right )} = - 3 x^{2} y{\\left (x \\right )} + 6 x^{2}$$"
      ],
      "text/plain": [
       "d               2           2\n",
       "──(y(x)) = - 3⋅x ⋅y(x) + 6⋅x \n",
       "dx                           "
      ]
     },
     "execution_count": 22,
     "metadata": {},
     "output_type": "execute_result"
    }
   ],
   "source": [
    "#Resolviendo ecuaciones diferenciales.\n",
    "#defino las incognitas.\n",
    "x=sympy.Symbol(\"x\")\n",
    "y=sympy.Function(\"y\")\n",
    "#expreso la ecuacion diferencial.\n",
    "f=6*x**2 - 3*x**2*(y(x))\n",
    "sympy.Eq(y(x).diff(x),f)\n"
   ]
  },
  {
   "cell_type": "code",
   "execution_count": 21,
   "metadata": {},
   "outputs": [
    {
     "data": {
      "text/latex": [
       "$$y{\\left (x \\right )} = C_{1} e^{- x^{3}} + 2$$"
      ],
      "text/plain": [
       "             3    \n",
       "           -x     \n",
       "y(x) = C₁⋅ℯ    + 2"
      ]
     },
     "execution_count": 21,
     "metadata": {},
     "output_type": "execute_result"
    }
   ],
   "source": [
    "#Resolviendo la ecuacion\n",
    "sympy.dsolve(y(x).diff(x)-f)"
   ]
  },
  {
   "cell_type": "markdown",
   "metadata": {},
   "source": [
    "Ahora resolvemos el siguiente problema de valores iniciales.\n",
    "$$\n",
    "\\begin{cases}\n",
    "{\\dot{y}(x)=1/2(y^2-1)}\\\\\n",
    "{y(0)=2}\n",
    "\\end{cases}\n",
    "$$"
   ]
  },
  {
   "cell_type": "code",
   "execution_count": 33,
   "metadata": {},
   "outputs": [
    {
     "data": {
      "text/latex": [
       "$$\\frac{d}{d x} y{\\left (x \\right )} = \\frac{1}{2} y^{2}{\\left (x \\right )} - \\frac{1}{2}$$"
      ],
      "text/plain": [
       "            2       \n",
       "d          y (x)   1\n",
       "──(y(x)) = ───── - ─\n",
       "dx           2     2"
      ]
     },
     "execution_count": 33,
     "metadata": {},
     "output_type": "execute_result"
    }
   ],
   "source": [
    "x=sympy.Symbol(\"x\")\n",
    "y=sympy.Function(\"y\")\n",
    "f= (y(x)**2 -1)/2\n",
    "sympy.Eq(y(x).diff(x),f)\n"
   ]
  },
  {
   "cell_type": "code",
   "execution_count": 34,
   "metadata": {},
   "outputs": [
    {
     "data": {
      "text/latex": [
       "$$y{\\left (x \\right )} = \\frac{1}{\\tanh{\\left (C_{1} - \\frac{x}{2} \\right )}}$$"
      ],
      "text/plain": [
       "            1      \n",
       "y(x) = ────────────\n",
       "           ⎛     x⎞\n",
       "       tanh⎜C₁ - ─⎟\n",
       "           ⎝     2⎠"
      ]
     },
     "execution_count": 34,
     "metadata": {},
     "output_type": "execute_result"
    }
   ],
   "source": [
    "sympy.dsolve(y(x).diff(x)-f)"
   ]
  },
  {
   "cell_type": "code",
   "execution_count": null,
   "metadata": {
    "collapsed": true
   },
   "outputs": [],
   "source": []
  }
 ],
 "metadata": {
  "kernelspec": {
   "display_name": "Python 3",
   "language": "python",
   "name": "python3"
  },
  "language_info": {
   "codemirror_mode": {
    "name": "ipython",
    "version": 3
   },
   "file_extension": ".py",
   "mimetype": "text/x-python",
   "name": "python",
   "nbconvert_exporter": "python",
   "pygments_lexer": "ipython3",
   "version": "3.6.3"
  }
 },
 "nbformat": 4,
 "nbformat_minor": 2
}
