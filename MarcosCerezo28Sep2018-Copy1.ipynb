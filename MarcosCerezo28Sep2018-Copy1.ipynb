{
 "cells": [
  {
   "cell_type": "markdown",
   "metadata": {},
   "source": [
    "## Método de Euler\n",
    "$$\n",
    "y_{i+1}=y_i +hf(x,y_i)\\\\\n",
    "x_i+1=x_i+h, i=0,1,2,...,n\\\\\n",
    "E=\\frac{h^2}{2!}y´´(z)=o(h^2)\n",
    "$$\n",
    "## Euler mejorado (Hewin)\n",
    "$$\n",
    "\\bar{y}_{i+1}=y_i+ +hf(x_i,y_i)\\\\\n",
    "y_{i+1}=y_i+\\frac{h}{2}(f(x_i,y_i)+f(x_{i+1},\\bar{y}_{i+1}))\\\\\n",
    "x_{i+1}=x_i+h; i=0,1,2,...,n\\\\\n",
    "E=\\frac{h^3}{3!}y´´(z)=o(h^3)\n",
    "$$\n",
    "## Range-Kutta Segundo orden\n",
    "$$\n",
    "k_1=hf(X_i,y_i)\\\\\n",
    "k_2=hf(X_i+h,y_i+k_1)\\\\\n",
    "y_{i+1}=y_i+\\frac{1}{2}(k_2+k_1)\\\\\n",
    "x_{i+1}=x_i+h; i=0,1,2,...,n\\\\\n",
    "E=\\frac{h^3}{3!}y´´(z)=o(h^3)\n",
    "$$\n",
    "## Cuarto Orden\n",
    "$$\n",
    "k_1=hf(X_i,y_i)\\\\\n",
    "k_2=hf(X_i+\\frac{h}{2},y_i+\\frac{k_1}{2})\\\\\n",
    "k_3=hf(X_i+\\frac{h}{2},y_i+\\frac{k_2}{2})\\\\\n",
    "k_y=hf(X_i+h,y_i+k_3)\\\\\n",
    "y_{i+1}=y_i+\\frac{1}{6}(k_1+2k_2+2k_3+2k_3+k_4)\\\\\n",
    "x_{i+1}=x_i+h; i=0,1,2,...,n\\\\\n",
    "E=o(h^5)\n",
    "$$"
   ]
  },
  {
   "cell_type": "markdown",
   "metadata": {},
   "source": [
    "## Método de Euler"
   ]
  },
  {
   "cell_type": "code",
   "execution_count": 18,
   "metadata": {
    "collapsed": true
   },
   "outputs": [],
   "source": [
    "import numpy as np\n",
    "import pylab as pl\n",
    "def euler(f,x,y,h,m):\n",
    "    u=np.zeros([m,2])\n",
    "    for i in range(m):\n",
    "        y=y+h*f(x,y)\n",
    "        x=x+h\n",
    "        u[i,0]=x\n",
    "        u[i,1]=y\n",
    "    return u\n"
   ]
  },
  {
   "cell_type": "code",
   "execution_count": 19,
   "metadata": {},
   "outputs": [
    {
     "data": {
      "image/png": "[encoded data removed]",
      "text/plain": [
       "<matplotlib.figure.Figure at 0x1999cb9bdd8>"
      ]
     },
     "metadata": {},
     "output_type": "display_data"
    }
   ],
   "source": [
    "import numpy as np\n",
    "import pylab as pl\n",
    "def f(x,y):\n",
    "    return y-x**2 +x+1\n",
    "u=euler(f,0,1,0.1,20)\n",
    "pl.plot(u[:,0],u[:,1],\"or\")\n",
    "def y(x):\n",
    "    return np.exp(x)+x**2 +x\n",
    "x=pl.arange(0,2.1,0.1)\n",
    "pl.plot(x,y(x),\"b--\")\n",
    "pl.grid(True)\n",
    "pl.show()"
   ]
  },
  {
   "cell_type": "markdown",
   "metadata": {
    "collapsed": true
   },
   "source": [
    "## Método de Euler mejorado (Heun)"
   ]
  },
  {
   "cell_type": "code",
   "execution_count": 20,
   "metadata": {
    "collapsed": true
   },
   "outputs": [],
   "source": [
    "import numpy as np\n",
    "def heun(f,x,y,h,m):\n",
    "    u=np.zeros([m,2],dtype=float)\n",
    "    for i in range (m):\n",
    "        yn=y+h*f(x,y)\n",
    "        y=y+h/2 *(f(x,y)+f(x+h,yn))\n",
    "        x=x+h\n",
    "        yn=y+h*f(x,y)\n",
    "        u[i,0]=x\n",
    "        u[i,1]=y\n",
    "    return u"
   ]
  },
  {
   "cell_type": "code",
   "execution_count": 14,
   "metadata": {},
   "outputs": [
    {
     "data": {
      "image/png": "[encoded data removed]",
      "text/plain": [
       "<matplotlib.figure.Figure at 0x1999cc475f8>"
      ]
     },
     "metadata": {},
     "output_type": "display_data"
    }
   ],
   "source": [
    "import numpy as np\n",
    "import pylab as pl\n",
    "def f(x,y):\n",
    "    return y-x**2 +x+1\n",
    "u=heun(f,0,1,0.1,20)\n",
    "pl.plot(u[:,0],u[:,1],\"or\")\n",
    "def y(x):\n",
    "    return np.exp(x)+x**2 +x\n",
    "x=pl.arange(0,2.1,0.1)\n",
    "pl.plot(x,y(x),\"b--\")\n",
    "pl.grid(True)\n",
    "pl.show()"
   ]
  },
  {
   "cell_type": "markdown",
   "metadata": {},
   "source": [
    "## Método de Range-Kutta segundo orden "
   ]
  },
  {
   "cell_type": "code",
   "execution_count": 22,
   "metadata": {
    "collapsed": true
   },
   "outputs": [],
   "source": [
    "import numpy as np\n",
    "def rk2(f,x,y,h,m):\n",
    "    u=np.zeros([m,2],float)\n",
    "    for i in range (m):\n",
    "        k1=h*f(x,y)\n",
    "        k2=h*f(x+h,y+k1)\n",
    "        y=y+ (k1+k2)/2\n",
    "        x=x+h\n",
    "        yn=y+h*f(x,y)\n",
    "        u[i,0]=x\n",
    "        u[i,1]=y\n",
    "    return u"
   ]
  },
  {
   "cell_type": "code",
   "execution_count": 23,
   "metadata": {},
   "outputs": [
    {
     "data": {
      "image/png": "[encoded data removed]",
      "text/plain": [
       "<matplotlib.figure.Figure at 0x1999d069dd8>"
      ]
     },
     "metadata": {},
     "output_type": "display_data"
    }
   ],
   "source": [
    "import numpy as np\n",
    "import pylab as pl\n",
    "def f(x,y):\n",
    "    return y-x**2 +x+1\n",
    "u=rk2(f,0,1,0.1,20)\n",
    "pl.plot(u[:,0],u[:,1],\"or\")\n",
    "def y(x):\n",
    "    return np.exp(x)+x**2 +x\n",
    "x=pl.arange(0,2.1,0.1)\n",
    "pl.plot(x,y(x),\"b--\")\n",
    "pl.grid(True)\n",
    "pl.show()"
   ]
  },
  {
   "cell_type": "markdown",
   "metadata": {},
   "source": [
    "## Método de Range-Kutta cuarto orden "
   ]
  },
  {
   "cell_type": "code",
   "execution_count": 33,
   "metadata": {
    "collapsed": true
   },
   "outputs": [],
   "source": [
    "import numpy as np\n",
    "def rk4(f,x,y,h,m):\n",
    "    u=np.zeros([m,2],float)\n",
    "    for i in range (m):\n",
    "        k1=h*f(x,y)\n",
    "        k2=h*f(x+h/2,y+k1/2)\n",
    "        k3=h*f(x+h/2,y+k2/2)\n",
    "        ky=h*f(x+h,y+k3)\n",
    "        y=y+ (k1+k2)/2\n",
    "        x=x+h\n",
    "        yn=y+h*f(x,y)\n",
    "        u[i,0]=x\n",
    "        u[i,1]=y\n",
    "    return u"
   ]
  },
  {
   "cell_type": "code",
   "execution_count": 37,
   "metadata": {},
   "outputs": [
    {
     "data": {
      "image/png": "[encoded data removed]",
      "text/plain": [
       "<matplotlib.figure.Figure at 0x1999cc4bac8>"
      ]
     },
     "metadata": {},
     "output_type": "display_data"
    }
   ],
   "source": [
    "import numpy as np\n",
    "import pylab as pl\n",
    "def f(x,y):\n",
    "    return y-x**2 +x+1\n",
    "u=rk4(f,0,1,0.1,20)\n",
    "pl.plot(u[:,0],u[:,1],\"or\")\n",
    "def y(x):\n",
    "    return np.exp(x)+x**2 +x\n",
    "x=pl.arange(0,2.1,0.1)\n",
    "pl.plot(x,y(x),\"b--\")\n",
    "pl.grid(True)\n",
    "pl.show()"
   ]
  },
  {
   "cell_type": "code",
   "execution_count": null,
   "metadata": {
    "collapsed": true
   },
   "outputs": [],
   "source": []
  }
 ],
 "metadata": {
  "kernelspec": {
   "display_name": "Python 3",
   "language": "python",
   "name": "python3"
  },
  "language_info": {
   "codemirror_mode": {
    "name": "ipython",
    "version": 3
   },
   "file_extension": ".py",
   "mimetype": "text/x-python",
   "name": "python",
   "nbconvert_exporter": "python",
   "pygments_lexer": "ipython3",
   "version": "3.6.3"
  }
 },
 "nbformat": 4,
 "nbformat_minor": 2
}
